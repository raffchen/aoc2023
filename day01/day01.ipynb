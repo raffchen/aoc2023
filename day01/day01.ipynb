{
 "cells": [
  {
   "cell_type": "code",
   "execution_count": 1,
   "id": "58ea8a43",
   "metadata": {},
   "outputs": [],
   "source": [
    "from aocd import get_data, submit\n",
    "import re\n",
    "\n",
    "DAY = 1\n",
    "YEAR = 2023"
   ]
  },
  {
   "cell_type": "code",
   "execution_count": 2,
   "id": "756b9e84",
   "metadata": {},
   "outputs": [],
   "source": [
    "data = get_data(day=DAY, year=YEAR).splitlines()"
   ]
  },
  {
   "cell_type": "markdown",
   "id": "efbd59dd",
   "metadata": {},
   "source": [
    "## Part 1"
   ]
  },
  {
   "cell_type": "code",
   "execution_count": 3,
   "id": "d67ade0a",
   "metadata": {},
   "outputs": [
    {
     "data": {
      "text/plain": [
       "54597"
      ]
     },
     "execution_count": 3,
     "metadata": {},
     "output_type": "execute_result"
    }
   ],
   "source": [
    "total = 0\n",
    "\n",
    "for line in data:\n",
    "    digits = re.findall(r'\\d', line)\n",
    "    total += int(digits[0] + digits[-1])\n",
    "    \n",
    "total"
   ]
  },
  {
   "cell_type": "code",
   "execution_count": 4,
   "id": "725f7435-e16f-4757-8f15-e6eb873123bc",
   "metadata": {},
   "outputs": [
    {
     "name": "stdout",
     "output_type": "stream",
     "text": [
      "Part a already solved with same answer: 54597\n"
     ]
    }
   ],
   "source": [
    "submit(total, part=\"a\", day=DAY, year=YEAR)"
   ]
  },
  {
   "cell_type": "markdown",
   "id": "54d69ec3",
   "metadata": {},
   "source": [
    "## Part 2"
   ]
  },
  {
   "cell_type": "code",
   "execution_count": 5,
   "id": "183b1003",
   "metadata": {},
   "outputs": [
    {
     "data": {
      "text/plain": [
       "54504"
      ]
     },
     "execution_count": 5,
     "metadata": {},
     "output_type": "execute_result"
    }
   ],
   "source": [
    "# credit to https://stackoverflow.com/questions/5616822/how-to-use-regex-to-find-all-overlapping-matches\n",
    "\n",
    "total = 0\n",
    "\n",
    "word_to_digit = {\n",
    "    'one': '1',\n",
    "    'two': '2',\n",
    "    'three': '3',\n",
    "    'four': '4',\n",
    "    'five': '5',\n",
    "    'six': '6',\n",
    "    'seven': '7',\n",
    "    'eight': '8',\n",
    "    'nine': '9'\n",
    "}\n",
    "\n",
    "for line in data:\n",
    "    digits = re.findall(r'(?=(\\d|one|two|three|four|five|six|seven|eight|nine))', line)\n",
    "    \n",
    "    first_digit = digits[0] if digits[0].isdigit() else word_to_digit[digits[0]]\n",
    "    second_digit = digits[-1] if digits[-1].isdigit() else word_to_digit[digits[-1]]\n",
    "    \n",
    "    total += int(first_digit + second_digit)\n",
    "    \n",
    "total"
   ]
  },
  {
   "cell_type": "code",
   "execution_count": 6,
   "id": "d5e17e32",
   "metadata": {},
   "outputs": [
    {
     "name": "stdout",
     "output_type": "stream",
     "text": [
      "Part b already solved with same answer: 54504\n"
     ]
    }
   ],
   "source": [
    "submit(total, part=\"b\", day=DAY, year=YEAR)"
   ]
  }
 ],
 "metadata": {
  "kernelspec": {
   "display_name": "Python 3 (ipykernel)",
   "language": "python",
   "name": "python3"
  },
  "language_info": {
   "codemirror_mode": {
    "name": "ipython",
    "version": 3
   },
   "file_extension": ".py",
   "mimetype": "text/x-python",
   "name": "python",
   "nbconvert_exporter": "python",
   "pygments_lexer": "ipython3",
   "version": "3.10.5"
  }
 },
 "nbformat": 4,
 "nbformat_minor": 5
}
