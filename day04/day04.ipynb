{
 "cells": [
  {
   "cell_type": "code",
   "execution_count": 1,
   "id": "259732c8-0c01-42aa-89be-92cb9b66db33",
   "metadata": {},
   "outputs": [],
   "source": [
    "from aocd import get_data, submit\n",
    "\n",
    "DAY = 4\n",
    "YEAR = 2023"
   ]
  },
  {
   "cell_type": "code",
   "execution_count": 57,
   "id": "77f10d99-939e-4d7f-bafb-1489d33529bb",
   "metadata": {},
   "outputs": [],
   "source": [
    "with open('input.txt', 'w') as file:\n",
    "    file.writelines(get_data(day=DAY, year=YEAR))\n",
    "    \n",
    "data = get_data(day=DAY, year=YEAR).splitlines()"
   ]
  },
  {
   "cell_type": "markdown",
   "id": "eab953db-a252-4960-842c-bc9770491aaf",
   "metadata": {},
   "source": [
    "<hr>"
   ]
  },
  {
   "cell_type": "code",
   "execution_count": 43,
   "id": "cd38f4e5-202a-4155-9752-4354d5dcd4e0",
   "metadata": {},
   "outputs": [],
   "source": [
    "import re\n",
    "\n",
    "from collections import defaultdict"
   ]
  },
  {
   "cell_type": "markdown",
   "id": "c3d1bb4b-8045-49c2-bfd6-9dd865333c7c",
   "metadata": {},
   "source": [
    "## PART 1"
   ]
  },
  {
   "cell_type": "code",
   "execution_count": 32,
   "id": "ccc73b56-e0bc-4a13-93e4-aee1dc46c1d7",
   "metadata": {},
   "outputs": [],
   "source": [
    "pattern = re.compile(r'^Card\\s+(\\d+):\\s+([\\d\\s]+?)\\s\\|\\s+([\\d\\s]+?)$')"
   ]
  },
  {
   "cell_type": "code",
   "execution_count": 30,
   "id": "120cf190-601e-4383-967b-38acad54deeb",
   "metadata": {},
   "outputs": [
    {
     "data": {
      "text/plain": [
       "23750"
      ]
     },
     "execution_count": 30,
     "metadata": {},
     "output_type": "execute_result"
    }
   ],
   "source": [
    "answer1 = 0\n",
    "\n",
    "for line in data:\n",
    "    card, winning, have = pattern.match(line).groups()\n",
    "    common = len(set(winning.split()).intersection(have.split()))\n",
    "    if common > 0:\n",
    "        answer1 += 2 ** (common-1)\n",
    "\n",
    "answer1"
   ]
  },
  {
   "cell_type": "code",
   "execution_count": 31,
   "id": "bf6ca7a9-ca01-41fa-8922-b0a7c885c607",
   "metadata": {},
   "outputs": [
    {
     "name": "stdout",
     "output_type": "stream",
     "text": [
      "\u001b[32mThat's the right answer!  You are one gold star closer to restoring snow operations. [Continue to Part Two]\u001b[0m\n"
     ]
    },
    {
     "data": {
      "text/plain": [
       "<urllib3.response.HTTPResponse at 0x1b7a6e47670>"
      ]
     },
     "execution_count": 31,
     "metadata": {},
     "output_type": "execute_result"
    }
   ],
   "source": [
    "submit(answer1, part='a', day=DAY, year=YEAR)"
   ]
  },
  {
   "cell_type": "markdown",
   "id": "df560372-995f-4692-b8e8-1984a103534c",
   "metadata": {},
   "source": [
    "## PART 2"
   ]
  },
  {
   "cell_type": "code",
   "execution_count": 62,
   "id": "d185dd9f-cd54-4776-a5ab-e2ad6b41bca9",
   "metadata": {},
   "outputs": [],
   "source": [
    "cards_won = defaultdict(int)\n",
    "\n",
    "for line in data:\n",
    "    card, winning, have = pattern.match(line).groups()\n",
    "    common = len(set(winning.split()).intersection(have.split()))\n",
    "\n",
    "    card = int(card)\n",
    "    won = list(range(card + 1, card + common + 1))\n",
    "    \n",
    "    for i in won:\n",
    "        cards_won[i] += 1 + cards_won.get(card, 0)\n",
    "\n",
    "answer2 = sum(cards_won.values()) + len(data)"
   ]
  },
  {
   "cell_type": "code",
   "execution_count": 63,
   "id": "9ef058ef-d777-42ed-98da-5110fab4c8a7",
   "metadata": {},
   "outputs": [
    {
     "name": "stdout",
     "output_type": "stream",
     "text": [
      "\u001b[32mThat's the right answer!  You are one gold star closer to restoring snow operations.You have completed Day 4! You can [Shareon\n",
      "  Twitter\n",
      "Mastodon] this victory or [Return to Your Advent Calendar].\u001b[0m\n"
     ]
    },
    {
     "data": {
      "text/plain": [
       "<urllib3.response.HTTPResponse at 0x1b7a6e73bb0>"
      ]
     },
     "execution_count": 63,
     "metadata": {},
     "output_type": "execute_result"
    }
   ],
   "source": [
    "submit(answer2, part='b', day=DAY, year=YEAR)"
   ]
  },
  {
   "cell_type": "code",
   "execution_count": null,
   "id": "ff812024-1681-4e03-8edf-7b72e443b6a2",
   "metadata": {},
   "outputs": [],
   "source": []
  }
 ],
 "metadata": {
  "kernelspec": {
   "display_name": "Python 3 (ipykernel)",
   "language": "python",
   "name": "python3"
  },
  "language_info": {
   "codemirror_mode": {
    "name": "ipython",
    "version": 3
   },
   "file_extension": ".py",
   "mimetype": "text/x-python",
   "name": "python",
   "nbconvert_exporter": "python",
   "pygments_lexer": "ipython3",
   "version": "3.10.5"
  }
 },
 "nbformat": 4,
 "nbformat_minor": 5
}
