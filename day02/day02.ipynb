{
 "cells": [
  {
   "cell_type": "code",
   "execution_count": 1,
   "id": "259732c8-0c01-42aa-89be-92cb9b66db33",
   "metadata": {},
   "outputs": [],
   "source": [
    "from aocd import get_data, submit\n",
    "\n",
    "DAY = 2\n",
    "YEAR = 2023"
   ]
  },
  {
   "cell_type": "code",
   "execution_count": 2,
   "id": "77f10d99-939e-4d7f-bafb-1489d33529bb",
   "metadata": {},
   "outputs": [],
   "source": [
    "with open('input.txt', 'w') as file:\n",
    "    file.writelines(get_data(day=DAY, year=YEAR))\n",
    "    \n",
    "data = get_data(day=DAY, year=YEAR).splitlines()"
   ]
  },
  {
   "cell_type": "markdown",
   "id": "c3d1bb4b-8045-49c2-bfd6-9dd865333c7c",
   "metadata": {},
   "source": [
    "## PART 1"
   ]
  },
  {
   "cell_type": "code",
   "execution_count": 18,
   "id": "a24e3b72-0a77-42c7-888f-3cb359d0cbb8",
   "metadata": {},
   "outputs": [],
   "source": [
    "limits = {'red': 12, 'green': 13, 'blue': 14}"
   ]
  },
  {
   "cell_type": "code",
   "execution_count": 29,
   "id": "120cf190-601e-4383-967b-38acad54deeb",
   "metadata": {},
   "outputs": [],
   "source": [
    "possible = []\n",
    "\n",
    "for line in data:\n",
    "    game, game_sets = line.split(': ')\n",
    "    game_id = int(game[5:])\n",
    "\n",
    "    game_possible = True\n",
    "\n",
    "    for game_set in game_sets.split('; '):\n",
    "        for cubes in game_set.split(', '):\n",
    "            num_cubes, color = cubes.split(' ')\n",
    "            num_cubes = int(num_cubes)\n",
    "        \n",
    "            if limits[color] < num_cubes:\n",
    "                game_possible = False\n",
    "                break\n",
    "                \n",
    "        if game_possible is False:\n",
    "            break\n",
    "\n",
    "    if game_possible:\n",
    "        possible.append(game_id)\n",
    "\n",
    "answer1 = sum(possible)"
   ]
  },
  {
   "cell_type": "code",
   "execution_count": 31,
   "id": "bf6ca7a9-ca01-41fa-8922-b0a7c885c607",
   "metadata": {},
   "outputs": [
    {
     "name": "stdout",
     "output_type": "stream",
     "text": [
      "\u001b[32mThat's the right answer!  You are one gold star closer to restoring snow operations. [Continue to Part Two]\u001b[0m\n"
     ]
    },
    {
     "data": {
      "text/plain": [
       "<urllib3.response.HTTPResponse at 0x204cec6f880>"
      ]
     },
     "execution_count": 31,
     "metadata": {},
     "output_type": "execute_result"
    }
   ],
   "source": [
    "submit(answer1, part='a', day=DAY, year=YEAR)"
   ]
  },
  {
   "cell_type": "markdown",
   "id": "df560372-995f-4692-b8e8-1984a103534c",
   "metadata": {},
   "source": [
    "## PART 2"
   ]
  },
  {
   "cell_type": "code",
   "execution_count": 34,
   "id": "d185dd9f-cd54-4776-a5ab-e2ad6b41bca9",
   "metadata": {},
   "outputs": [],
   "source": [
    "answer2 = 0\n",
    "\n",
    "for line in data:\n",
    "    game, game_sets = line.split(': ')\n",
    "    game_id = int(game[5:])\n",
    "\n",
    "    red_max = 0\n",
    "    green_max = 0\n",
    "    blue_max = 0\n",
    "\n",
    "    for game_set in game_sets.split('; '):\n",
    "        for cubes in game_set.split(', '):\n",
    "            num_cubes, color = cubes.split(' ')\n",
    "            num_cubes = int(num_cubes)\n",
    "        \n",
    "            if color == 'red' and num_cubes > red_max:\n",
    "                red_max = num_cubes\n",
    "            elif color == 'green' and num_cubes > green_max:\n",
    "                green_max = num_cubes\n",
    "            elif color == 'blue' and num_cubes > blue_max:\n",
    "                blue_max = num_cubes\n",
    "\n",
    "    answer2 += red_max * green_max * blue_max"
   ]
  },
  {
   "cell_type": "code",
   "execution_count": 35,
   "id": "9ef058ef-d777-42ed-98da-5110fab4c8a7",
   "metadata": {},
   "outputs": [
    {
     "name": "stdout",
     "output_type": "stream",
     "text": [
      "\u001b[32mThat's the right answer!  You are one gold star closer to restoring snow operations.You have completed Day 2! You can [Shareon\n",
      "  Twitter\n",
      "Mastodon] this victory or [Return to Your Advent Calendar].\u001b[0m\n"
     ]
    },
    {
     "data": {
      "text/plain": [
       "<urllib3.response.HTTPResponse at 0x204ceaa3070>"
      ]
     },
     "execution_count": 35,
     "metadata": {},
     "output_type": "execute_result"
    }
   ],
   "source": [
    "submit(answer2, part='b', day=DAY, year=YEAR)"
   ]
  },
  {
   "cell_type": "code",
   "execution_count": null,
   "id": "ff812024-1681-4e03-8edf-7b72e443b6a2",
   "metadata": {},
   "outputs": [],
   "source": []
  }
 ],
 "metadata": {
  "kernelspec": {
   "display_name": "Python 3 (ipykernel)",
   "language": "python",
   "name": "python3"
  },
  "language_info": {
   "codemirror_mode": {
    "name": "ipython",
    "version": 3
   },
   "file_extension": ".py",
   "mimetype": "text/x-python",
   "name": "python",
   "nbconvert_exporter": "python",
   "pygments_lexer": "ipython3",
   "version": "3.10.5"
  }
 },
 "nbformat": 4,
 "nbformat_minor": 5
}
