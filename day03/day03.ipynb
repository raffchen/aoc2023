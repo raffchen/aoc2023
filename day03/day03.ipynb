{
 "cells": [
  {
   "cell_type": "code",
   "execution_count": 84,
   "id": "259732c8-0c01-42aa-89be-92cb9b66db33",
   "metadata": {},
   "outputs": [],
   "source": [
    "import itertools\n",
    "import functools \n",
    "\n",
    "from aocd import get_data, submit\n",
    "\n",
    "DAY = 3\n",
    "YEAR = 2023"
   ]
  },
  {
   "cell_type": "code",
   "execution_count": 2,
   "id": "77f10d99-939e-4d7f-bafb-1489d33529bb",
   "metadata": {},
   "outputs": [],
   "source": [
    "with open('input.txt', 'w') as file:\n",
    "    file.writelines(get_data(day=DAY, year=YEAR))\n",
    "    \n",
    "data = get_data(day=DAY, year=YEAR).splitlines()"
   ]
  },
  {
   "cell_type": "markdown",
   "id": "c3d1bb4b-8045-49c2-bfd6-9dd865333c7c",
   "metadata": {},
   "source": [
    "## PART 1"
   ]
  },
  {
   "cell_type": "code",
   "execution_count": 36,
   "id": "2e4df732-04d8-4c29-bdb5-e7f58c7670b5",
   "metadata": {},
   "outputs": [],
   "source": [
    "def check_neighbors(data, row, col):\n",
    "    for new_row in range(row - 1, row + 2):\n",
    "        for new_col in range(col - 1, col + 2):\n",
    "            if (new_row != row or new_col != col) and (0 <= new_row < len(data)) and (0 <= new_col < len(data[new_row])):\n",
    "                neighbor = data[new_row][new_col]\n",
    "                if neighbor != '.' and not neighbor.isdigit():\n",
    "                    return True\n",
    "    return False"
   ]
  },
  {
   "cell_type": "code",
   "execution_count": 43,
   "id": "120cf190-601e-4383-967b-38acad54deeb",
   "metadata": {},
   "outputs": [
    {
     "data": {
      "text/plain": [
       "556057"
      ]
     },
     "execution_count": 43,
     "metadata": {},
     "output_type": "execute_result"
    }
   ],
   "source": [
    "answer1 = 0\n",
    "\n",
    "for row, line in enumerate(data):\n",
    "    add_number = False\n",
    "    current_number = ''\n",
    "    for col, char in enumerate(line):\n",
    "        if not char.isdigit():\n",
    "            if add_number:\n",
    "                answer1 += int(current_number)\n",
    "            add_number = False\n",
    "            current_number = ''\n",
    "        else:\n",
    "            current_number += char\n",
    "            if check_neighbors(data, row, col):\n",
    "                add_number = True\n",
    "\n",
    "answer1"
   ]
  },
  {
   "cell_type": "code",
   "execution_count": 44,
   "id": "bf6ca7a9-ca01-41fa-8922-b0a7c885c607",
   "metadata": {},
   "outputs": [
    {
     "name": "stdout",
     "output_type": "stream",
     "text": [
      "\u001b[32mThat's the right answer!  You are one gold star closer to restoring snow operations. [Continue to Part Two]\u001b[0m\n"
     ]
    },
    {
     "data": {
      "text/plain": [
       "<urllib3.response.HTTPResponse at 0x131ff9b8b80>"
      ]
     },
     "execution_count": 44,
     "metadata": {},
     "output_type": "execute_result"
    }
   ],
   "source": [
    "submit(answer1, part='a', day=DAY, year=YEAR)"
   ]
  },
  {
   "cell_type": "markdown",
   "id": "df560372-995f-4692-b8e8-1984a103534c",
   "metadata": {},
   "source": [
    "## PART 2"
   ]
  },
  {
   "cell_type": "code",
   "execution_count": 87,
   "id": "48e77185-030c-45f9-a9d7-71cdc7ce45bf",
   "metadata": {},
   "outputs": [],
   "source": [
    "def check_neighbors2(data, coord_to_id, id_to_num, row, col):\n",
    "    seen_ids = set()\n",
    "    \n",
    "    for new_row in range(row - 1, row + 2):\n",
    "        for new_col in range(col - 1, col + 2):\n",
    "            if (new_row != row or new_col != col) and (0 <= new_row < len(data)) and (0 <= new_col < len(data[new_row])):\n",
    "                if data[new_row][new_col].isdigit():\n",
    "                    seen_ids.add(coord_to_id[new_row, new_col])\n",
    "\n",
    "    if len(seen_ids) == 2:\n",
    "        return functools.reduce(lambda a, b: a * b, [id_to_num[num_id] for num_id in seen_ids])\n",
    "    else:\n",
    "        return 0"
   ]
  },
  {
   "cell_type": "code",
   "execution_count": 88,
   "id": "d185dd9f-cd54-4776-a5ab-e2ad6b41bca9",
   "metadata": {},
   "outputs": [
    {
     "data": {
      "text/plain": [
       "82824352"
      ]
     },
     "execution_count": 88,
     "metadata": {},
     "output_type": "execute_result"
    }
   ],
   "source": [
    "answer2 = 0\n",
    "\n",
    "current_id = itertools.count()\n",
    "id_to_num = {}\n",
    "coord_to_id = {}\n",
    "\n",
    "for row, line in enumerate(data):\n",
    "    current_number = ''\n",
    "    current_coord = []\n",
    "    for col, char in enumerate(line):\n",
    "        if not char.isdigit():\n",
    "            if current_number != '':\n",
    "                num_id = next(current_id)\n",
    "                id_to_num[num_id] = int(current_number)\n",
    "                for coord in current_coord:\n",
    "                    coord_to_id[coord] = num_id\n",
    "            current_number = ''\n",
    "            current_coord = []\n",
    "        else:\n",
    "            current_number += char\n",
    "            current_coord.append((row, col))\n",
    "\n",
    "for row, line in enumerate(data):\n",
    "    for col, char in enumerate(line):\n",
    "        if char == '*':\n",
    "            answer2 += check_neighbors2(data, coord_to_id, id_to_num, row, col)\n",
    "\n",
    "answer2"
   ]
  },
  {
   "cell_type": "code",
   "execution_count": 89,
   "id": "9ef058ef-d777-42ed-98da-5110fab4c8a7",
   "metadata": {},
   "outputs": [
    {
     "name": "stdout",
     "output_type": "stream",
     "text": [
      "\u001b[32mThat's the right answer!  You are one gold star closer to restoring snow operations.You have completed Day 3! You can [Shareon\n",
      "  Twitter\n",
      "Mastodon] this victory or [Return to Your Advent Calendar].\u001b[0m\n"
     ]
    },
    {
     "data": {
      "text/plain": [
       "<urllib3.response.HTTPResponse at 0x131ff9c7400>"
      ]
     },
     "execution_count": 89,
     "metadata": {},
     "output_type": "execute_result"
    }
   ],
   "source": [
    "submit(answer2, part='b', day=DAY, year=YEAR)"
   ]
  },
  {
   "cell_type": "code",
   "execution_count": null,
   "id": "1ef472f0-d49f-42d6-bfac-6aa28b235d77",
   "metadata": {},
   "outputs": [],
   "source": []
  }
 ],
 "metadata": {
  "kernelspec": {
   "display_name": "Python 3 (ipykernel)",
   "language": "python",
   "name": "python3"
  },
  "language_info": {
   "codemirror_mode": {
    "name": "ipython",
    "version": 3
   },
   "file_extension": ".py",
   "mimetype": "text/x-python",
   "name": "python",
   "nbconvert_exporter": "python",
   "pygments_lexer": "ipython3",
   "version": "3.10.5"
  }
 },
 "nbformat": 4,
 "nbformat_minor": 5
}
